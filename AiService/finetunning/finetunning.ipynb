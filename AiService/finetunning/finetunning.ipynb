{
 "cells": [
  {
   "cell_type": "code",
   "execution_count": null,
   "id": "ac5cff67",
   "metadata": {},
   "outputs": [],
   "source": [
    "!pip install torch torchvision torchaudio --index-url https://download.pytorch.org/whl/cu124\n",
    "!pip install transformers==4.51.3\n",
    "!pip install scikit-learn==1.6.1\n",
    "!pip install pandas==2.2.2\n",
    "!pip install numpy==2.0.2\n",
    "!pip install matplotlib==3.10.0\n",
    "!pip install seaborn==0.13.2\n",
    "!pip install nltk==3.9.1\n",
    "!pip install \"openpyxl>=3.1.0\"\n"
   ]
  },
  {
   "cell_type": "code",
   "execution_count": 199,
   "id": "8495f8c7",
   "metadata": {},
   "outputs": [],
   "source": [
    "import torch"
   ]
  },
  {
   "cell_type": "code",
   "execution_count": 200,
   "id": "0c182cec",
   "metadata": {},
   "outputs": [],
   "source": [
    "import pandas as pd\n",
    "import os\n",
    "import glob\n",
    "\n",
    "# 엑셀 파일들이 저장된 디렉토리 경로\n",
    "folder_path = r'C:\\Users\\dkswo\\.jupyter\\sentry\\labeled-1\\labeled-1'\n",
    "\n",
    "# 해당 디렉토리 내의 모든 .xlsx 파일 경로 가져오기\n",
    "excel_files = glob.glob(os.path.join(folder_path, '*.xlsx'))\n",
    "\n",
    "# 모든 엑셀 파일을 읽어서 리스트에 저장\n",
    "df_list = [pd.read_excel(file) for file in excel_files]\n",
    "\n",
    "# 하나의 DataFrame으로 병합\n",
    "df = pd.concat(df_list, ignore_index=True)"
   ]
  },
  {
   "cell_type": "code",
   "execution_count": 201,
   "id": "27a4805f",
   "metadata": {},
   "outputs": [],
   "source": [
    "df = df[['text', 'label']]"
   ]
  },
  {
   "cell_type": "code",
   "execution_count": 202,
   "id": "8aa7ab0c",
   "metadata": {},
   "outputs": [
    {
     "name": "stdout",
     "output_type": "stream",
     "text": [
      "<class 'pandas.core.frame.DataFrame'>\n",
      "RangeIndex: 7322 entries, 0 to 7321\n",
      "Data columns (total 2 columns):\n",
      " #   Column  Non-Null Count  Dtype \n",
      "---  ------  --------------  ----- \n",
      " 0   text    7322 non-null   object\n",
      " 1   label   7322 non-null   int64 \n",
      "dtypes: int64(1), object(1)\n",
      "memory usage: 114.5+ KB\n"
     ]
    }
   ],
   "source": [
    "df['label'] = df['label'].apply(\n",
    "    lambda x: int(x.split('_')[-1]) if isinstance(x, str) and x.startswith('LABEL_') else x\n",
    ")\n",
    "df.info()"
   ]
  },
  {
   "cell_type": "code",
   "execution_count": 203,
   "id": "2d6ad6de",
   "metadata": {},
   "outputs": [
    {
     "name": "stdout",
     "output_type": "stream",
     "text": [
      "3.11.5 | packaged by Anaconda, Inc. | (main, Sep 11 2023, 13:26:23) [MSC v.1916 64 bit (AMD64)]\n"
     ]
    }
   ],
   "source": [
    "import sys\n",
    "print(sys.version)"
   ]
  },
  {
   "cell_type": "code",
   "execution_count": 204,
   "id": "c023cdb3",
   "metadata": {},
   "outputs": [],
   "source": [
    "from transformers import AutoModelForSequenceClassification, Trainer, TrainingArguments, AutoTokenizer, AutoConfig"
   ]
  },
  {
   "cell_type": "code",
   "execution_count": null,
   "id": "33a73da6",
   "metadata": {},
   "outputs": [],
   "source": [
    "config = AutoConfig.from_pretrained(\n",
    "    \"alsgyu/sentiment-analysis-fine-tuned-model\",\n",
    "    num_labels=3,\n",
    ")"
   ]
  },
  {
   "cell_type": "code",
   "execution_count": 206,
   "id": "e2c5312e",
   "metadata": {},
   "outputs": [],
   "source": [
    "# 모델 로드\n",
    "model = AutoModelForSequenceClassification.from_pretrained(\n",
    "    \"alsgyu/sentiment-analysis-fine-tuned-model\",\n",
    "    config=config\n",
    ")"
   ]
  },
  {
   "cell_type": "code",
   "execution_count": 207,
   "id": "d6ad8db9",
   "metadata": {},
   "outputs": [],
   "source": [
    "tokenizer = AutoTokenizer.from_pretrained(\"alsgyu/sentiment-analysis-fine-tuned-model\")"
   ]
  },
  {
   "cell_type": "code",
   "execution_count": 208,
   "id": "5ab87512",
   "metadata": {},
   "outputs": [
    {
     "name": "stdout",
     "output_type": "stream",
     "text": [
      "4.51.3\n",
      "transformers.training_args\n"
     ]
    }
   ],
   "source": [
    "import transformers\n",
    "print(transformers.__version__)\n",
    "print(transformers.TrainingArguments.__module__)\n"
   ]
  },
  {
   "cell_type": "code",
   "execution_count": 209,
   "id": "5bc326d2",
   "metadata": {},
   "outputs": [
    {
     "name": "stdout",
     "output_type": "stream",
     "text": [
      "['data_test.ipynb', 'logs', 'results', 'test.ipynb']\n"
     ]
    }
   ],
   "source": [
    "import os\n",
    "print(os.listdir())  # 현재 디렉토리 파일 목록\n"
   ]
  },
  {
   "cell_type": "code",
   "execution_count": null,
   "id": "78befc9b",
   "metadata": {},
   "outputs": [],
   "source": [
    "training_args = TrainingArguments(\n",
    "    output_dir=r\"C:\\Users\\dkswo\\workspace\\Project\\Sentry\\AI\\results\",\n",
    "    eval_strategy=\"epoch\",      \n",
    "    save_strategy=\"epoch\",\n",
    "    learning_rate=2e-5,               \n",
    "    per_device_train_batch_size=16,    \n",
    "    per_device_eval_batch_size=32,\n",
    "    num_train_epochs=10,               \n",
    "    weight_decay=0.05,               \n",
    "    save_total_limit=1,\n",
    "    metric_for_best_model=\"f1\",        # F1 기준으로 가장 좋은 모델 저장\n",
    "    load_best_model_at_end=True,\n",
    "    logging_dir=r\"C:\\Users\\dkswo\\workspace\\Project\\Sentry\\AI\\logs\",\n",
    "    greater_is_better=True,\n",
    "    lr_scheduler_type=\"cosine\",        \n",
    "    warmup_ratio=0.1\n",
    ")\n"
   ]
  },
  {
   "cell_type": "code",
   "execution_count": 211,
   "id": "2493f38f",
   "metadata": {},
   "outputs": [],
   "source": [
    "def preprocess_function(examples):\n",
    "    return tokenizer(examples['text'], padding='max_length', truncation=True)\n"
   ]
  },
  {
   "cell_type": "code",
   "execution_count": 212,
   "id": "75f4e17b",
   "metadata": {},
   "outputs": [
    {
     "name": "stdout",
     "output_type": "stream",
     "text": [
      "Training Dataset: Dataset({\n",
      "    features: ['text', 'label', '__index_level_0__'],\n",
      "    num_rows: 5857\n",
      "})\n",
      "Validation Dataset: Dataset({\n",
      "    features: ['text', 'label', '__index_level_0__'],\n",
      "    num_rows: 1465\n",
      "})\n"
     ]
    }
   ],
   "source": [
    "from sklearn.model_selection import train_test_split\n",
    "from datasets import Dataset\n",
    "\n",
    "df = df.dropna(subset=['label'])\n",
    "\n",
    "\n",
    "df_train, df_valid = train_test_split(df, test_size=0.2, stratify=df['label'], random_state=222)\n",
    "\n",
    "train_dataset = Dataset.from_pandas(df_train)\n",
    "valid_dataset = Dataset.from_pandas(df_valid)\n",
    "\n",
    "# 확인\n",
    "print(\"Training Dataset:\", train_dataset)\n",
    "print(\"Validation Dataset:\", valid_dataset)"
   ]
  },
  {
   "cell_type": "code",
   "execution_count": 213,
   "id": "f7fe0c97",
   "metadata": {},
   "outputs": [
    {
     "name": "stderr",
     "output_type": "stream",
     "text": [
      "Map: 100%|██████████| 5857/5857 [00:00<00:00, 9108.82 examples/s]\n",
      "Map: 100%|██████████| 1465/1465 [00:00<00:00, 8971.57 examples/s]"
     ]
    },
    {
     "name": "stdout",
     "output_type": "stream",
     "text": [
      "Tokenized Training Dataset: Dataset({\n",
      "    features: ['label', '__index_level_0__', 'input_ids', 'token_type_ids', 'attention_mask'],\n",
      "    num_rows: 5857\n",
      "})\n",
      "Tokenized Validation Dataset: Dataset({\n",
      "    features: ['label', '__index_level_0__', 'input_ids', 'token_type_ids', 'attention_mask'],\n",
      "    num_rows: 1465\n",
      "})\n"
     ]
    },
    {
     "name": "stderr",
     "output_type": "stream",
     "text": [
      "\n"
     ]
    }
   ],
   "source": [
    "# 토큰화 적용\n",
    "train_dataset = train_dataset.map(preprocess_function, batched=True)\n",
    "valid_dataset = valid_dataset.map(preprocess_function, batched=True)\n",
    "\n",
    "# 불필요한 열 제거\n",
    "train_dataset = train_dataset.remove_columns([\"text\"])\n",
    "valid_dataset = valid_dataset.remove_columns([\"text\"])\n",
    "\n",
    "# 확인\n",
    "print(\"Tokenized Training Dataset:\", train_dataset)\n",
    "print(\"Tokenized Validation Dataset:\", valid_dataset)"
   ]
  },
  {
   "cell_type": "code",
   "execution_count": 214,
   "id": "c38129bc",
   "metadata": {},
   "outputs": [
    {
     "name": "stdout",
     "output_type": "stream",
     "text": [
      "label\n",
      "2    4228\n",
      "1    1653\n",
      "0    1441\n",
      "Name: count, dtype: int64\n"
     ]
    }
   ],
   "source": [
    "label_counts = df['label'].value_counts()\n",
    "\n",
    "print(label_counts)"
   ]
  },
  {
   "cell_type": "code",
   "execution_count": 215,
   "id": "34a1c860",
   "metadata": {},
   "outputs": [],
   "source": [
    "import torch\n",
    "import numpy as np\n",
    "from sklearn.utils.class_weight import compute_class_weight\n",
    "\n",
    "# 클래스 라벨과 개수\n",
    "class_labels = np.array([0, 1, 2])  # 리스트 → 넘파이 배열\n",
    "class_counts = [1441, 1653, 4228]\n",
    "\n",
    "# y 생성\n",
    "y = [label for label, count in zip(class_labels, class_counts) for _ in range(count)]\n",
    "\n",
    "# 클래스 가중치 계산\n",
    "class_weights = compute_class_weight(class_weight='balanced', classes=class_labels, y=y)\n",
    "class_weights_tensor = torch.tensor(class_weights, dtype=torch.float)"
   ]
  },
  {
   "cell_type": "code",
   "execution_count": 216,
   "id": "b1ea60da",
   "metadata": {},
   "outputs": [],
   "source": [
    "# 커스텀 트레이너 정의\n",
    "from transformers import Trainer\n",
    "import torch.nn as nn\n",
    "\n",
    "class WeightedTrainer(Trainer):\n",
    "    def __init__(self, *args, class_weights=None, **kwargs):\n",
    "        super().__init__(*args, **kwargs)\n",
    "        self.class_weights = class_weights\n",
    "\n",
    "    def compute_loss(self, model, inputs, return_outputs=False, **kwargs):\n",
    "        labels = inputs.get(\"labels\")\n",
    "        outputs = model(**inputs)\n",
    "        logits = outputs.get(\"logits\")\n",
    "\n",
    "        loss_fn = nn.CrossEntropyLoss(weight=self.class_weights.to(self.args.device))\n",
    "        loss = loss_fn(logits, labels)\n",
    "\n",
    "        return (loss, outputs) if return_outputs else loss"
   ]
  },
  {
   "cell_type": "code",
   "execution_count": 217,
   "id": "80e6285f",
   "metadata": {},
   "outputs": [
    {
     "name": "stderr",
     "output_type": "stream",
     "text": [
      "C:\\Users\\dkswo\\AppData\\Local\\Temp\\ipykernel_14728\\1632347034.py:7: FutureWarning: `tokenizer` is deprecated and will be removed in version 5.0.0 for `WeightedTrainer.__init__`. Use `processing_class` instead.\n",
      "  super().__init__(*args, **kwargs)\n"
     ]
    }
   ],
   "source": [
    "from sklearn.metrics import accuracy_score, precision_recall_fscore_support\n",
    "from transformers import EarlyStoppingCallback\n",
    "\n",
    "# 평가 지표 함수\n",
    "def compute_metrics(pred):\n",
    "    labels = pred.label_ids\n",
    "    preds = pred.predictions.argmax(-1)\n",
    "    precision, recall, f1, _ = precision_recall_fscore_support(labels, preds, average=\"weighted\")\n",
    "    acc = accuracy_score(labels, preds)\n",
    "    return {\"accuracy\": acc, \"f1\": f1, \"precision\": precision, \"recall\": recall}\n",
    "\n",
    "# Trainer 정의\n",
    "trainer = WeightedTrainer(\n",
    "    model=model,\n",
    "    args=training_args,\n",
    "    train_dataset=train_dataset,\n",
    "    eval_dataset=valid_dataset,\n",
    "    tokenizer=tokenizer,\n",
    "    compute_metrics=compute_metrics,\n",
    "    callbacks=[EarlyStoppingCallback(early_stopping_patience=2)], # earlystopping callback 추가\n",
    "    class_weights=class_weights_tensor\n",
    ")"
   ]
  },
  {
   "cell_type": "code",
   "execution_count": 218,
   "id": "80041b90",
   "metadata": {},
   "outputs": [
    {
     "data": {
      "text/html": [
       "\n",
       "    <div>\n",
       "      \n",
       "      <progress value='2569' max='4404' style='width:300px; height:20px; vertical-align: middle;'></progress>\n",
       "      [2569/4404 08:53 < 06:21, 4.81 it/s, Epoch 7/12]\n",
       "    </div>\n",
       "    <table border=\"1\" class=\"dataframe\">\n",
       "  <thead>\n",
       " <tr style=\"text-align: left;\">\n",
       "      <th>Epoch</th>\n",
       "      <th>Training Loss</th>\n",
       "      <th>Validation Loss</th>\n",
       "      <th>Accuracy</th>\n",
       "      <th>F1</th>\n",
       "      <th>Precision</th>\n",
       "      <th>Recall</th>\n",
       "    </tr>\n",
       "  </thead>\n",
       "  <tbody>\n",
       "    <tr>\n",
       "      <td>1</td>\n",
       "      <td>No log</td>\n",
       "      <td>0.494051</td>\n",
       "      <td>0.783618</td>\n",
       "      <td>0.790701</td>\n",
       "      <td>0.819821</td>\n",
       "      <td>0.783618</td>\n",
       "    </tr>\n",
       "    <tr>\n",
       "      <td>2</td>\n",
       "      <td>0.628700</td>\n",
       "      <td>0.431102</td>\n",
       "      <td>0.849829</td>\n",
       "      <td>0.851149</td>\n",
       "      <td>0.854695</td>\n",
       "      <td>0.849829</td>\n",
       "    </tr>\n",
       "    <tr>\n",
       "      <td>3</td>\n",
       "      <td>0.367600</td>\n",
       "      <td>0.478466</td>\n",
       "      <td>0.858703</td>\n",
       "      <td>0.860089</td>\n",
       "      <td>0.862525</td>\n",
       "      <td>0.858703</td>\n",
       "    </tr>\n",
       "    <tr>\n",
       "      <td>4</td>\n",
       "      <td>0.367600</td>\n",
       "      <td>0.608959</td>\n",
       "      <td>0.858703</td>\n",
       "      <td>0.859773</td>\n",
       "      <td>0.861751</td>\n",
       "      <td>0.858703</td>\n",
       "    </tr>\n",
       "    <tr>\n",
       "      <td>5</td>\n",
       "      <td>0.191500</td>\n",
       "      <td>0.812130</td>\n",
       "      <td>0.861433</td>\n",
       "      <td>0.861155</td>\n",
       "      <td>0.861716</td>\n",
       "      <td>0.861433</td>\n",
       "    </tr>\n",
       "    <tr>\n",
       "      <td>6</td>\n",
       "      <td>0.093800</td>\n",
       "      <td>0.925922</td>\n",
       "      <td>0.861433</td>\n",
       "      <td>0.860832</td>\n",
       "      <td>0.861090</td>\n",
       "      <td>0.861433</td>\n",
       "    </tr>\n",
       "    <tr>\n",
       "      <td>7</td>\n",
       "      <td>0.055400</td>\n",
       "      <td>0.966992</td>\n",
       "      <td>0.855973</td>\n",
       "      <td>0.857174</td>\n",
       "      <td>0.859429</td>\n",
       "      <td>0.855973</td>\n",
       "    </tr>\n",
       "  </tbody>\n",
       "</table><p>"
      ],
      "text/plain": [
       "<IPython.core.display.HTML object>"
      ]
     },
     "metadata": {},
     "output_type": "display_data"
    },
    {
     "data": {
      "text/plain": [
       "TrainOutput(global_step=2569, training_loss=0.26112992367237725, metrics={'train_runtime': 533.9592, 'train_samples_per_second': 131.628, 'train_steps_per_second': 8.248, 'total_flos': 6320734578181800.0, 'train_loss': 0.26112992367237725, 'epoch': 7.0})"
      ]
     },
     "execution_count": 218,
     "metadata": {},
     "output_type": "execute_result"
    }
   ],
   "source": [
    "trainer.train()"
   ]
  },
  {
   "cell_type": "code",
   "execution_count": 220,
   "id": "58abc599",
   "metadata": {},
   "outputs": [
    {
     "data": {
      "text/html": [],
      "text/plain": [
       "<IPython.core.display.HTML object>"
      ]
     },
     "metadata": {},
     "output_type": "display_data"
    },
    {
     "data": {
      "image/png": "[encoded data removed]",
      "text/plain": [
       "<Figure size 640x480 with 2 Axes>"
      ]
     },
     "metadata": {},
     "output_type": "display_data"
    }
   ],
   "source": [
    "from sklearn.metrics import confusion_matrix, ConfusionMatrixDisplay\n",
    "import matplotlib.pyplot as plt\n",
    "\n",
    "# 예측값 얻기\n",
    "predictions = trainer.predict(valid_dataset)\n",
    "y_true = predictions.label_ids\n",
    "y_pred = predictions.predictions.argmax(-1)\n",
    "\n",
    "# 정규화된 Confusion Matrix (True Label 기준 → 행 기준 비율)\n",
    "cm = confusion_matrix(y_true, y_pred, normalize='true')\n",
    "\n",
    "# 시각화\n",
    "disp = ConfusionMatrixDisplay(confusion_matrix=cm)\n",
    "disp.plot(cmap='Blues', values_format=\".2f\")  # 소수점 2자리로 출력\n",
    "plt.title(\"Normalized Confusion Matrix (by True Label)\")\n",
    "plt.show()\n"
   ]
  },
  {
   "cell_type": "code",
   "execution_count": null,
   "id": "6745f5c2",
   "metadata": {},
   "outputs": [
    {
     "name": "stderr",
     "output_type": "stream",
     "text": [
      "c:\\Users\\dkswo\\anaconda3\\envs\\condatest\\Lib\\site-packages\\IPython\\core\\pylabtools.py:170: UserWarning: Glyph 49457 (\\N{HANGUL SYLLABLE SEONG}) missing from font(s) DejaVu Sans.\n",
      "  fig.canvas.print_figure(bytes_io, **kw)\n",
      "c:\\Users\\dkswo\\anaconda3\\envs\\condatest\\Lib\\site-packages\\IPython\\core\\pylabtools.py:170: UserWarning: Glyph 45733 (\\N{HANGUL SYLLABLE NEUNG}) missing from font(s) DejaVu Sans.\n",
      "  fig.canvas.print_figure(bytes_io, **kw)\n",
      "c:\\Users\\dkswo\\anaconda3\\envs\\condatest\\Lib\\site-packages\\IPython\\core\\pylabtools.py:170: UserWarning: Glyph 128200 (\\N{CHART WITH UPWARDS TREND}) missing from font(s) DejaVu Sans.\n",
      "  fig.canvas.print_figure(bytes_io, **kw)\n",
      "c:\\Users\\dkswo\\anaconda3\\envs\\condatest\\Lib\\site-packages\\IPython\\core\\pylabtools.py:170: UserWarning: Glyph 47784 (\\N{HANGUL SYLLABLE MO}) missing from font(s) DejaVu Sans.\n",
      "  fig.canvas.print_figure(bytes_io, **kw)\n",
      "c:\\Users\\dkswo\\anaconda3\\envs\\condatest\\Lib\\site-packages\\IPython\\core\\pylabtools.py:170: UserWarning: Glyph 45944 (\\N{HANGUL SYLLABLE DEL}) missing from font(s) DejaVu Sans.\n",
      "  fig.canvas.print_figure(bytes_io, **kw)\n",
      "c:\\Users\\dkswo\\anaconda3\\envs\\condatest\\Lib\\site-packages\\IPython\\core\\pylabtools.py:170: UserWarning: Glyph 48708 (\\N{HANGUL SYLLABLE BI}) missing from font(s) DejaVu Sans.\n",
      "  fig.canvas.print_figure(bytes_io, **kw)\n",
      "c:\\Users\\dkswo\\anaconda3\\envs\\condatest\\Lib\\site-packages\\IPython\\core\\pylabtools.py:170: UserWarning: Glyph 44368 (\\N{HANGUL SYLLABLE GYO}) missing from font(s) DejaVu Sans.\n",
      "  fig.canvas.print_figure(bytes_io, **kw)\n",
      "c:\\Users\\dkswo\\anaconda3\\envs\\condatest\\Lib\\site-packages\\IPython\\core\\pylabtools.py:170: UserWarning: Glyph 49892 (\\N{HANGUL SYLLABLE SIL}) missing from font(s) DejaVu Sans.\n",
      "  fig.canvas.print_figure(bytes_io, **kw)\n",
      "c:\\Users\\dkswo\\anaconda3\\envs\\condatest\\Lib\\site-packages\\IPython\\core\\pylabtools.py:170: UserWarning: Glyph 54744 (\\N{HANGUL SYLLABLE HEOM}) missing from font(s) DejaVu Sans.\n",
      "  fig.canvas.print_figure(bytes_io, **kw)\n",
      "c:\\Users\\dkswo\\anaconda3\\envs\\condatest\\Lib\\site-packages\\IPython\\core\\pylabtools.py:170: UserWarning: Glyph 48260 (\\N{HANGUL SYLLABLE BEO}) missing from font(s) DejaVu Sans.\n",
      "  fig.canvas.print_figure(bytes_io, **kw)\n",
      "c:\\Users\\dkswo\\anaconda3\\envs\\condatest\\Lib\\site-packages\\IPython\\core\\pylabtools.py:170: UserWarning: Glyph 51204 (\\N{HANGUL SYLLABLE JEON}) missing from font(s) DejaVu Sans.\n",
      "  fig.canvas.print_figure(bytes_io, **kw)\n"
     ]
    },
    {
     "data": {
      "image/png": "[encoded data removed]",
      "text/plain": [
       "<Figure size 640x480 with 1 Axes>"
      ]
     },
     "metadata": {},
     "output_type": "display_data"
    }
   ],
   "source": [
    "import matplotlib.pyplot as plt\n",
    "\n",
    "# 실험 버전별 성능 (예시 데이터)\n",
    "versions = [\"EXP_A\", \"EXP_B\", \"EXP_C\", \"Final\"]\n",
    "f1_scores = [0.852, 0.854, 0.855, 0.862]\n",
    "accuracy = [0.840, 0.845, 0.849, 0.861]\n",
    "\n",
    "plt.plot(versions, f1_scores, marker='o', label=\"F1-score\")\n",
    "plt.plot(versions, accuracy, marker='s', label=\"Accuracy\")\n",
    "plt.ylim(0.82, 0.88)\n",
    "plt.title(\"모델 성능 비교\")\n",
    "plt.xlabel(\"실험 버전\")\n",
    "plt.ylabel(\"성능\")\n",
    "plt.grid(True)\n",
    "plt.legend()\n",
    "plt.show()\n"
   ]
  }
 ],
 "metadata": {
  "kernelspec": {
   "display_name": "condatest",
   "language": "python",
   "name": "python3"
  },
  "language_info": {
   "codemirror_mode": {
    "name": "ipython",
    "version": 3
   },
   "file_extension": ".py",
   "mimetype": "text/x-python",
   "name": "python",
   "nbconvert_exporter": "python",
   "pygments_lexer": "ipython3",
   "version": "3.11.5"
  }
 },
 "nbformat": 4,
 "nbformat_minor": 5
}
